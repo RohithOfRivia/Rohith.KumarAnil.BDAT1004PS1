{
 "cells": [
  {
   "cell_type": "markdown",
   "id": "f6ad5780",
   "metadata": {},
   "source": [
    "# Question 6 Python\n",
    "\n",
    "### You can turn a word into pig-Latin using the following two rules (simplified):\n",
    "### • If the word starts with a consonant, move that letter to the end and append 'ay'. For example, 'happy' becomes 'appyhay' and 'pencil' becomes 'encilpay'.\n",
    "### • If the word starts with a vowel, simply append 'way' to the end of the word. \n",
    "### For example, 'enter' becomes 'enterway' and 'other' becomes 'otherway' . For our purposes, there are 5 vowels: a, e, i, o, u (so we count y as a consonant).Write a function pig() that takes a word (i.e., a string) as input and returns its pig\u0002Latin form. Your function should still work if the input word contains upper case characters. Your output should always be lower case however."
   ]
  },
  {
   "cell_type": "code",
   "execution_count": 156,
   "id": "969c58b6",
   "metadata": {},
   "outputs": [
    {
     "name": "stdout",
     "output_type": "stream",
     "text": [
      "appyhay\n",
      "enterway\n"
     ]
    }
   ],
   "source": [
    "vowels = ['a', 'e', 'i', 'o', 'u']\n",
    "\n",
    "def pig(word):\n",
    "    word = word.lower()\n",
    "    \n",
    "    # if first letter is a vowel \"way\" is added to the end returned\n",
    "    if word[0] in vowels:\n",
    "        return (word + \"way\").lower()\n",
    "    \n",
    "    else:\n",
    "        \n",
    "        # moving first letter to the end and then adding \"ay\"\n",
    "        word = word[1:] + word[0]\n",
    "        word += \"ay\"\n",
    "        return word\n",
    "        \n",
    "    \n",
    "print(pig('happy'))\n",
    "print(pig('enter'))"
   ]
  },
  {
   "cell_type": "markdown",
   "id": "1dfc0c52",
   "metadata": {},
   "source": [
    "# Question 7 Python\n",
    "\n",
    "### File bloodtype1.txt records blood-types of patients (A, B, AB, O or OO) at a clinic. Write a function bldcount() that reads the file with name name and reports (i.e., prints) how many patients there are in each bloodtype."
   ]
  },
  {
   "cell_type": "code",
   "execution_count": 158,
   "id": "97fcc707",
   "metadata": {},
   "outputs": [
    {
     "name": "stdout",
     "output_type": "stream",
     "text": [
      "No. of patients with Blood group AB: 13\n",
      "No. of patients with Blood group B: 1\n",
      "No. of patients with Blood group O: 15\n",
      "No. of patients with Blood group A: 15\n"
     ]
    }
   ],
   "source": [
    "def bldcount(filename):\n",
    "    file = open(filename).read()\n",
    "    \n",
    "    # converting the text into an array of strings\n",
    "    bloodTypes = file.strip().split(' ')\n",
    "    \n",
    "    # This list will carry the name and no. of patients each blood type\n",
    "    counterList = []\n",
    "    \n",
    "    # looping through bloodTypes\n",
    "    for item in bloodTypes:\n",
    "        \n",
    "        \n",
    "        if item not in counterList:\n",
    "            \n",
    "            # This line adds the item to the counterList if it doesn't exist yet\n",
    "            counterList.append(item)\n",
    "            \n",
    "            # This line appends an integer value of 1 in the next index to mark the first occurence\n",
    "            counterList.append(1)\n",
    "            \n",
    "        else:\n",
    "            \n",
    "            # These two lines find the index of the bloodgroup name. 1 is added to that value so that, \n",
    "            # 'index' points to no. of occurences which is right next to blood group name\n",
    "            \n",
    "            index = counterList.index(item) + 1\n",
    "            counterList[index] += 1\n",
    "    \n",
    "    # The final result contains a list like this: [bloodgroup A, no.of patients for A, bloodgroup B, no.of patients for B... ]\n",
    "    \n",
    "    # Using this loop to print the bloodgroups and no. of patients\n",
    "    i = 0\n",
    "    j = 1\n",
    "\n",
    "    while(i < len(counterList)):\n",
    "        print(f\"No. of patients with Blood group {counterList[i]}: {counterList[j]}\")\n",
    "        i += 2\n",
    "        j += 2\n",
    "\n",
    "bldcount(\"bloodtype1.txt\")"
   ]
  },
  {
   "cell_type": "markdown",
   "id": "ed9d35e6",
   "metadata": {},
   "source": [
    "# Question 8 Python\n",
    "\n",
    "### Write a function curconv() that takes as input:\n",
    "### 1. a currency represented using a string (e.g., 'JPY' for the Japanese Yen or 'EUR' for the Euro)\n",
    "\n",
    "### 2. an amount and then converts and returns the amount in US dollars.\n"
   ]
  },
  {
   "cell_type": "code",
   "execution_count": 171,
   "id": "c2425866",
   "metadata": {},
   "outputs": [
    {
     "name": "stdout",
     "output_type": "stream",
     "text": [
      "106.5858\n"
     ]
    }
   ],
   "source": [
    "file = open(\"currencies.txt\")\n",
    "\n",
    "exchangeRates = []\n",
    "\n",
    "# Looping through all lines of the file\n",
    "\n",
    "for line in file:\n",
    "    \n",
    "   \n",
    "    # calling split() to clean up the text\n",
    "    \n",
    "    temp = line.split()\n",
    "    \n",
    "     # appending the currency code and its corresponding rate (similar to the array in question 7)\n",
    "    \n",
    "    exchangeRates.append(temp[0])\n",
    "    exchangeRates.append(temp[1])\n",
    "\n",
    "\n",
    "def curconv(currency, amount):\n",
    "    \n",
    "    # This line finds the index of exchange rate of the currency passed to the function\n",
    "    rateIndex = exchangeRates.index(currency) + 1\n",
    "    \n",
    "    rate = exchangeRates[rateIndex]\n",
    "    \n",
    "    # converting to USD\n",
    "    convertedAmount = amount * float(rate)\n",
    "    \n",
    "    return convertedAmount\n",
    "\n",
    "\n",
    "print(curconv('INR',6000))"
   ]
  },
  {
   "cell_type": "markdown",
   "id": "7ebff9eb",
   "metadata": {},
   "source": [
    "# Question 9 Python\n",
    "\n",
    "### Each of the following will cause an exception (an error). Identify what type of exception each will cause."
   ]
  },
  {
   "cell_type": "markdown",
   "id": "abe5e315",
   "metadata": {},
   "source": [
    "#### Trying to add incompatible variables, as in adding 6 + ‘a’"
   ]
  },
  {
   "cell_type": "markdown",
   "id": "b2322ff5",
   "metadata": {},
   "source": [
    "-- This produces \"TypeError\""
   ]
  },
  {
   "cell_type": "code",
   "execution_count": 10,
   "id": "96d232c0",
   "metadata": {},
   "outputs": [],
   "source": [
    "# name = 'abc'\n",
    "# name + 10"
   ]
  },
  {
   "cell_type": "markdown",
   "id": "72212487",
   "metadata": {},
   "source": [
    "#### Referring to the 12th item of a list that has only 10 items"
   ]
  },
  {
   "cell_type": "markdown",
   "id": "e560a903",
   "metadata": {},
   "source": [
    "-- This produces \"IndexError\""
   ]
  },
  {
   "cell_type": "code",
   "execution_count": 11,
   "id": "28e78f3e",
   "metadata": {},
   "outputs": [],
   "source": [
    "# numbers = [1, 2, 3, 4, 5, 6, 7, 8, 9, 10]    \n",
    "# numbers[12]"
   ]
  },
  {
   "cell_type": "markdown",
   "id": "ca5f04a5",
   "metadata": {},
   "source": [
    "#### Using a value that is out of range for a function’s input, such as calling math.sqrt(-1.0)"
   ]
  },
  {
   "cell_type": "markdown",
   "id": "247373be",
   "metadata": {},
   "source": [
    "-- This produces \"ValueError\"-- "
   ]
  },
  {
   "cell_type": "code",
   "execution_count": 12,
   "id": "92f9a6d6",
   "metadata": {},
   "outputs": [],
   "source": [
    "# import math\n",
    "\n",
    "# math.sqrt(-1.0)"
   ]
  },
  {
   "cell_type": "markdown",
   "id": "45b9bd2b",
   "metadata": {},
   "source": [
    "#### Using an undeclared variable, such as print(x)when x has not been defined "
   ]
  },
  {
   "cell_type": "markdown",
   "id": "bd7ae62b",
   "metadata": {},
   "source": [
    "-- This produces \"NameError\""
   ]
  },
  {
   "cell_type": "code",
   "execution_count": 13,
   "id": "bf0cded5",
   "metadata": {},
   "outputs": [],
   "source": [
    "# print(x)"
   ]
  },
  {
   "cell_type": "markdown",
   "id": "d3fbe359",
   "metadata": {},
   "source": [
    "#### Trying to open a file that does not exist, such as mistyping the file name or looking in the wrong directory."
   ]
  },
  {
   "cell_type": "markdown",
   "id": "471fb951",
   "metadata": {},
   "source": [
    "-- This produces \"FileNotFoundError\""
   ]
  },
  {
   "cell_type": "code",
   "execution_count": 14,
   "id": "cdcd6b79",
   "metadata": {},
   "outputs": [],
   "source": [
    "# open('fileThatIsMissing')"
   ]
  },
  {
   "cell_type": "markdown",
   "id": "0edae8b0",
   "metadata": {},
   "source": [
    "# Question 10 Python\n",
    "\n",
    "### Encryption is the process of hiding the meaning of a text by substituting letters in the message with other letters, according to some system. If the process is successful, no one but the intended recipient can understand the encrypted message. \n",
    "\n",
    "### Cryptanalysisrefers to attempts to undo the encryption, even if some details of the encryption are unknown (for example, if an encrypted message has been intercepted). The first step of cryptanalysis is often to build up a table of letter frequencies in the encrypted text. Assume that the string letters is already defined as 'abcdefghijklmnopqrstuvwxyz'. \n",
    "\n",
    "### Write a function called frequencies()that takes a string as its only parameter, and returns a list of integers, showing the number of times each character appears in the text. Your function may ignore any characters that are not in letters. "
   ]
  },
  {
   "cell_type": "code",
   "execution_count": 15,
   "id": "c8663e4d",
   "metadata": {},
   "outputs": [
    {
     "name": "stdout",
     "output_type": "stream",
     "text": [
      "[1, 0, 0, 0, 1, 0, 0, 0, 0, 0, 0, 1, 0, 0, 0, 2, 0, 0, 0, 0, 0, 0, 0, 0, 0, 0]\n"
     ]
    }
   ],
   "source": [
    "def frequencies(myString):\n",
    "    myString = myString.lower()\n",
    "    table = 'abcdefghijklmnopqrstuvwxyz'\n",
    "    \n",
    "    # This list will hold the frequencies of each letter\n",
    "    frequencies = []\n",
    "    \n",
    "    # creating a list of zeroes\n",
    "    for letters in table:\n",
    "        frequencies.append(0)\n",
    "    \n",
    "    # looping through each letter passed to this function \n",
    "    for letter in myString:\n",
    "        \n",
    "        # if the character exists in the table, 1 is added to its particular index in the frequencies list\n",
    "        if letter in table:\n",
    "            index = table.index(letter)\n",
    "            frequencies[index] += 1\n",
    "        \n",
    "    return frequencies\n",
    "\n",
    "\n",
    "print(frequencies('apple'))"
   ]
  }
 ],
 "metadata": {
  "kernelspec": {
   "display_name": "Python 3 (ipykernel)",
   "language": "python",
   "name": "python3"
  },
  "language_info": {
   "codemirror_mode": {
    "name": "ipython",
    "version": 3
   },
   "file_extension": ".py",
   "mimetype": "text/x-python",
   "name": "python",
   "nbconvert_exporter": "python",
   "pygments_lexer": "ipython3",
   "version": "3.9.7"
  }
 },
 "nbformat": 4,
 "nbformat_minor": 5
}

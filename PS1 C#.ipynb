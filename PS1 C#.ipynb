{
 "cells": [
  {
   "cell_type": "markdown",
   "id": "7d589595",
   "metadata": {},
   "source": [
    "# Question 1 C#"
   ]
  },
  {
   "cell_type": "markdown",
   "id": "4410156a",
   "metadata": {},
   "source": [
    "### What data type is each of the following?\n",
    "\n",
    "#### 5 \n",
    "\n",
    "#### 5.0\n",
    "\n",
    "#### 5 > 1\n",
    "\n",
    "#### '5'\n",
    "\n",
    "#### 5 * 2\n",
    "\n",
    "#### '5' * 2\n",
    "\n",
    "#### '5' + '2'\n",
    "\n",
    "#### 5 / 2\n",
    "\n",
    "#### 5 % 2\n",
    "\n",
    "#### {5, 2, 1}\n",
    "\n",
    "#### 5 == 3\n",
    "\n",
    "#### Pi (the number)"
   ]
  },
  {
   "cell_type": "markdown",
   "id": "f9f23a96",
   "metadata": {},
   "source": [
    "data type of 5 :             Int\n",
    "\n",
    "data type of 5.0 :           Double\n",
    "\n",
    "data type of (5 > 1) :       Boolean\n",
    "\n",
    "data type of '5' :           Char\n",
    "\n",
    "data type of (5 * 2) :       Int\n",
    "\n",
    "data type of ('5' * 2) :     Int\n",
    "\n",
    "data type of ('5' + '2') :   Int\n",
    "\n",
    "data type of (5 / 2) :       Int\n",
    "\n",
    "data type of (5 % 2) :       Int\n",
    "\n",
    "data type of {1,2,3} :       Int Array\n",
    "\n",
    "data type of (5 == 3) :      Boolean\n",
    "\n",
    "data type of 3.1415 :        Double\n"
   ]
  },
  {
   "cell_type": "markdown",
   "id": "41d4a702",
   "metadata": {},
   "source": [
    "# Question 2 C#"
   ]
  },
  {
   "cell_type": "markdown",
   "id": "a420fd6a",
   "metadata": {},
   "source": [
    "## A. \n",
    "\n",
    "#### How many letters are there in 'Supercalifragilisticexpialidocious'?"
   ]
  },
  {
   "cell_type": "code",
   "execution_count": 19,
   "id": "dbc5d1d5",
   "metadata": {},
   "outputs": [
    {
     "name": "stdout",
     "output_type": "stream",
     "text": [
      "Length of the given string is : 34\r\n"
     ]
    }
   ],
   "source": [
    "string questionString = \"Supercalifragilisticexpialidocious\";\n",
    "int length = 0;\n",
    "\n",
    "// Looping through each character in the string\n",
    "foreach (var character in questionString){\n",
    "    \n",
    "    length += 1;\n",
    "}\n",
    "\n",
    "Console.WriteLine(\"Length of the given string is : {0}\", length);"
   ]
  },
  {
   "cell_type": "markdown",
   "id": "e6baa0b4",
   "metadata": {},
   "source": [
    "## B. \n",
    "\n",
    "#### Does 'Supercalifragilisticexpialidocious' contain 'ice' as a substring?"
   ]
  },
  {
   "cell_type": "code",
   "execution_count": 20,
   "id": "87d8a2c2",
   "metadata": {},
   "outputs": [
    {
     "name": "stdout",
     "output_type": "stream",
     "text": [
      "Given string contains 'ice' as a substring\r\n"
     ]
    }
   ],
   "source": [
    "string questionString = \"Supercalifragilisticexpialidocious\";\n",
    "\n",
    "// using containsIce to store the return value of .Contains() and then checked to see if it was true or false\n",
    "\n",
    "bool containsIce = questionString.Contains(\"ice\");\n",
    "\n",
    "if(containsIce) {\n",
    "    Console.WriteLine(\"Given string contains 'ice' as a substring\");\n",
    "}\n",
    "\n",
    "else {\n",
    "    Console.WriteLine(\"Given string does not contain 'ice' as a substring\");\n",
    "}"
   ]
  },
  {
   "cell_type": "markdown",
   "id": "0f54a0e8",
   "metadata": {},
   "source": [
    "## C. \n",
    "\n",
    "### Which of the following words is the longest: Supercalifragilisticexpialidocious, Honorificabilitudinitatibus, or Bababadalgharaghtakamminarronnkonn?"
   ]
  },
  {
   "cell_type": "code",
   "execution_count": 21,
   "id": "f8139a2d",
   "metadata": {},
   "outputs": [
    {
     "name": "stdout",
     "output_type": "stream",
     "text": [
      "Longest word/words : Bababadalgharaghtakamminarronnkonn, Supercalifragilisticexpialidocious\r\n"
     ]
    }
   ],
   "source": [
    "// function that returns length of a string\n",
    "public int lengthFinder(string word) {\n",
    "\n",
    "    int length = 0;\n",
    "    foreach (var character in word) {\n",
    "    length += 1;\n",
    "    }\n",
    "    return length;\n",
    "}\n",
    "\n",
    "// this array stores the strings from the question\n",
    "string[] strangeWords = new string [] { \"Bababadalgharaghtakamminarronnkonn\", \n",
    "                                         \"Supercalifragilisticexpialidocious\", \n",
    "                                         \"Honorificabilitudinitatibus\"\n",
    "                                         };\n",
    "                                         \n",
    "                                         \n",
    "\n",
    "string longestWord = \"\";\n",
    "int longest = 0;\n",
    "\n",
    "\n",
    "// looping through each word in the array\n",
    "foreach(string word in strangeWords) {\n",
    "\n",
    "    int wordLength = lengthFinder(word);\n",
    "    \n",
    "    // When another string with same length is encountered\n",
    "    \n",
    "    if(wordLength == longest){\n",
    "        longestWord = $\"{longestWord}, {word}\";\n",
    "    }\n",
    "    \n",
    "    if(wordLength > longest) {\n",
    "        longest = wordLength;\n",
    "        longestWord = word;\n",
    "        }\n",
    "}\n",
    "\n",
    "Console.WriteLine(\"Longest word/words : {0}\", longestWord);"
   ]
  },
  {
   "cell_type": "markdown",
   "id": "b318afc2",
   "metadata": {},
   "source": [
    "## D. \n",
    "\n",
    "### Which composer comes first in the dictionary: 'Berlioz', 'Borodin', 'Brian', 'Bartok', 'Bellini', 'Buxtehude', 'Bernstein'. Which one comes last? "
   ]
  },
  {
   "cell_type": "markdown",
   "id": "7d3a18fe",
   "metadata": {},
   "source": [
    "I found out that regualar indexing does not work with SortedSet so I referred https://stackoverflow.com/questions/20691753/accessing-the-item-at-a-specified-index-in-a-sortedset to see how to access the first element."
   ]
  },
  {
   "cell_type": "code",
   "execution_count": 22,
   "id": "ca36c604",
   "metadata": {},
   "outputs": [
    {
     "name": "stdout",
     "output_type": "stream",
     "text": [
      "Composer that comes first in the dictionary: Bartok\n",
      "Composer that comes last in the dictionary: Buxtehude\n"
     ]
    }
   ],
   "source": [
    "var composers = new SortedSet<string>();\n",
    "\n",
    "composers.Add(\"Berlioz\");\n",
    "composers.Add(\"Borodin\");\n",
    "composers.Add(\"Brian\");\n",
    "composers.Add(\"Bartok\");\n",
    "composers.Add(\"Bellini\");\n",
    "composers.Add(\"Buxtehude\");\n",
    "composers.Add(\"Bernstein\");\n",
    "\n",
    "\n",
    "\n",
    "// printing the composer that comes first in the dictionary\n",
    "Console.WriteLine(\"Composer that comes first in the dictionary: \" + composers.ElementAt(0));\n",
    "Console.WriteLine(\"Composer that comes last in the dictionary: \" + composers.ElementAt(6));"
   ]
  },
  {
   "cell_type": "markdown",
   "id": "960b95b4",
   "metadata": {},
   "source": [
    "# Question 3 C#\n",
    "\n",
    "### Implement function triangleArea(a,b,c) that takes as input the lengths of the 3 sides of a triangle and returns the area of the triangle. By Heron's formula, the area of a triangle with side lengths a, b, and c is sqrt(s(s - a)(s -b)(s -c)), where s = (a+b+c)/2. "
   ]
  },
  {
   "cell_type": "markdown",
   "id": "08008955",
   "metadata": {},
   "source": [
    "I refered https://www.geeksforgeeks.org/c-sharp-math-sqrt-method/ to see what function to use in order to find square root of a number."
   ]
  },
  {
   "cell_type": "code",
   "execution_count": 23,
   "id": "0a29872d",
   "metadata": {},
   "outputs": [
    {
     "name": "stdout",
     "output_type": "stream",
     "text": [
      "Area of triangle = 1.7320508075688772\r\n"
     ]
    }
   ],
   "source": [
    "public double triangleArea(int a, int b, int c){\n",
    "    double s = (a+b+c)/2;\n",
    "    double area = Math.Sqrt( s * (s - a) * (s - b) * (s - c) );\n",
    "    \n",
    "    return area;\n",
    "    }\n",
    "\n",
    "\n",
    "double area = triangleArea(2, 2, 2);\n",
    "\n",
    "// cannot find area if any of the terms is 0 in this equation -> (s(s - a)(s -b)(s -c))\n",
    "if (area == 0){\n",
    "    Console.WriteLine(\"Illegal triangle!\");\n",
    "}\n",
    "\n",
    "else{\n",
    "    Console.WriteLine($\"Area of triangle = {area}\");\n",
    "}"
   ]
  },
  {
   "cell_type": "markdown",
   "id": "9dfee8c7",
   "metadata": {},
   "source": [
    "# Question 4 C#\n",
    "\n",
    "### Write a program in C# Sharp to separate odd and even integers in separate arrays. "
   ]
  },
  {
   "cell_type": "code",
   "execution_count": 24,
   "id": "b2838393",
   "metadata": {},
   "outputs": [
    {
     "name": "stdout",
     "output_type": "stream",
     "text": [
      "The Even elements are: \n",
      "42 56 32 \n",
      "The odd elements are: \n",
      "25 47 \n"
     ]
    }
   ],
   "source": [
    "// I have used an array to store the input numbers\n",
    "\n",
    "int[] inputs = new int[]{25,47,42,56,32};\n",
    "int[] odd = new int[]{0, 0, 0, 0, 0};\n",
    "int[] even= new int[]{0, 0, 0, 0, 0};\n",
    "int evenCounter = 0;\n",
    "int oddCounter = 0;\n",
    "\n",
    "//looping through the array\n",
    "foreach(int element in inputs){\n",
    "\n",
    "    // to check if a number is odd or not\n",
    "    if (element % 2 == 0){\n",
    "        \n",
    "        // inserts into even number array\n",
    "        even[evenCounter] = element;\n",
    "        evenCounter += 1;\n",
    "    }\n",
    "    \n",
    "    else{\n",
    "        \n",
    "        // inserts into odd number array\n",
    "        odd[oddCounter] = element;\n",
    "        oddCounter += 1;\n",
    "    }\n",
    "}\n",
    "\n",
    "string evenString = \"\";\n",
    "string oddString = \"\";\n",
    "\n",
    "// looping through both odd and even arrays and creating a result in the form of a string as seen in the question\n",
    "\n",
    "foreach (var element in even){\n",
    "    \n",
    "    // this array was initialized with 0s in every index. So preventing 0s from printing... \n",
    "    if (element == 0){\n",
    "        continue;\n",
    "    }\n",
    "    evenString += element + \" \"; \n",
    "}\n",
    "\n",
    "foreach (var element in odd){\n",
    "    \n",
    "    // this array was initialized with 0s in every index. So preventing 0s from printing... \n",
    "    if (element == 0){\n",
    "        continue;\n",
    "    }\n",
    "    oddString += element + \" \"; \n",
    "}\n",
    "\n",
    "Console.WriteLine(\"The Even elements are: \");\n",
    "Console.WriteLine(evenString);\n",
    "Console.WriteLine(\"The odd elements are: \");\n",
    "Console.WriteLine(oddString);"
   ]
  },
  {
   "cell_type": "markdown",
   "id": "2502bf6a",
   "metadata": {},
   "source": [
    "# Question 5 C#"
   ]
  },
  {
   "cell_type": "markdown",
   "id": "81cd9ee6",
   "metadata": {},
   "source": [
    "## A. \n",
    "\n",
    "#### Write a function inside(x,y,x1,y1,x2,y2) that returns True or False depending on whether the point (x,y) lies in the rectangle with lower left corner (x1,y1) and upper right corner (x2,y2)."
   ]
  },
  {
   "cell_type": "code",
   "execution_count": 25,
   "id": "13dacd97",
   "metadata": {},
   "outputs": [],
   "source": [
    "public bool inside(double x, double y, double x1, double y1, double x2, double y2){\n",
    "    // Checking if point lies inside (if point is on edge it will count as outside the rectangle)\n",
    "    \n",
    "    if (x > x1 && x < x2 && y > y1 && y < y2){\n",
    "        return true;\n",
    "    }\n",
    "    \n",
    "    else{\n",
    "        return false;\n",
    "    }\n",
    "}"
   ]
  },
  {
   "cell_type": "markdown",
   "id": "b607c2f7",
   "metadata": {},
   "source": [
    "## B. \n",
    "\n",
    "#### Use function inside() from part a. to write an expression that tests whether the point (1,1) lies in both of the following rectangles: one with lower left corner (0.3, 0.5) and upper right corner (1.1, 0.7) and the other with lower left corner (0.5, 0.2) and upper right corner (1.1, 2). "
   ]
  },
  {
   "cell_type": "markdown",
   "id": "8f414cdc",
   "metadata": {},
   "source": [
    "True will be printed if the point is inside the rectangle. False will be printed if the point is outside the rectangle."
   ]
  },
  {
   "cell_type": "code",
   "execution_count": 26,
   "id": "471faca2",
   "metadata": {},
   "outputs": [
    {
     "name": "stdout",
     "output_type": "stream",
     "text": [
      "False\n",
      "True\n"
     ]
    }
   ],
   "source": [
    "// printing if the point (1, 1) is inside or outside rectangle with lower left corner (0.3, 0.5) and upper right corner (1.1, 0.7) \n",
    "Console.WriteLine(inside(1, 1, 0.3, 0.5, 1.1, 0.7));\n",
    "\n",
    "// printing if point (1, 1) is inside or outside rectangle with lower left corner(0.5, 0.2) and upper right corner (1.1, 2) \n",
    "Console.WriteLine(inside(1, 1, 0.5, 0.2, 1.1, 2));"
   ]
  }
 ],
 "metadata": {
  "kernelspec": {
   "display_name": ".NET (C#)",
   "language": "C#",
   "name": ".net-csharp"
  },
  "language_info": {
   "file_extension": ".cs",
   "mimetype": "text/x-csharp",
   "name": "C#",
   "pygments_lexer": "csharp",
   "version": "8.0"
  }
 },
 "nbformat": 4,
 "nbformat_minor": 5
}
